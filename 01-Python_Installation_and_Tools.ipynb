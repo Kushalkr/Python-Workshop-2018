{
 "cells": [
  {
   "cell_type": "markdown",
   "metadata": {},
   "source": [
    "# Python for Earth and Atmospheric Sciences\n",
    "-------------------------------------------------------------------\n",
    "\n",
    "Kushal Keshavamurthy Raviprakash\n",
    "\n",
    "kushalkr2992@gmail.com\n",
    "\n",
    "This notebook is a part of the [Python for Earth and Atmospheric Sciences](https://github.com/Kushalkr/Python_for_Earth_and_Atmospheric_Sciences) workshop."
   ]
  },
  {
   "cell_type": "markdown",
   "metadata": {},
   "source": [
    "# Installing Python\n",
    "-------------------------------------------------------------------"
   ]
  },
  {
   "cell_type": "markdown",
   "metadata": {},
   "source": [
    "## For MacOS X and Linux\n",
    "Open the terminal window and run the <a href=\"scripts/miniconda_install.sh\" download> miniconda_install.sh</a>  script in the scripts directory of my git repository either by using:\n",
    "```bash\n",
    "bash miniconda_install.sh\n",
    "```\n",
    "or\n",
    "```bash\n",
    "chmod +x miniconda_install.sh\n",
    "./miniconda_install.sh\n",
    "```\n",
    "The steps are shown as images below:\n",
    "1. Open a terminal window and run the command mentioned above.<br />\n",
    "<img src=\"images/Miniconda-MacOSX-1.png\" align=\"center\" /><br />\n",
    "2. After you press the `Enter` key, press `space` to get to this screen.<br />\n",
    "<img src=\"images/Miniconda-MacOSX-2.png\" align=\"center\" /><br />\n",
    "3. Mention the path where you want Miniconda to be installed and type `yes` when prompted to prepend Miniconda install directory to the `PATH` variable.\n",
    "<img src=\"images/Miniconda-MacOSX-3.png\" align=\"center\" /><br />\n",
    "4. Press `y` when prompted to install the required packages.\n",
    "<img src=\"images/Miniconda-MacOSX-4.png\" align=\"center\" /><br />\n",
    "<img src=\"images/Miniconda-MacOSX-5.png\" align=\"center\" /><br />\n",
    "5. In the end, if you want to remove the installation file that was downloaded, press `n`.\n",
    "<img src=\"images/Miniconda-MacOSX-6.png\" align=\"center\" /><br />\n",
    "\n",
    "## Note:\n",
    "1. If you ran the script and Miniconda was installed but the packages didn't get installed, you can either:\n",
    "    * Remove the directory (folder) where you have Miniconda installed already and then give the same path during installation.\n",
    "    \n",
    "    or<br/><br />\n",
    "    * Give a different path for installation of Miniconda\n",
    "\n",
    "2. MacOS X users, it is required that you install [XQuartz](https://www.xquartz.org/index.html). You can download the XQuartz (.dmg) file [here](https://www.xquartz.org/index.html) and once downloaded, just open the file and drag the XQuartz icon into your *Applications* folder."
   ]
  },
  {
   "cell_type": "markdown",
   "metadata": {},
   "source": [
    "## For Windows\n",
    "\n",
    "1. Go to [https://conda.io/miniconda.html](https://conda.io/miniconda.html).<br />\n",
    "<img src=\"images/Miniconda_Windows-1.png\" align=\"center\" /><br />\n",
    "2. Download appropriate binary for windows.<br />\n",
    "3. Go to location where you downloaded the binary.<br />\n",
    "4. Double click on the binary file.<br />\n",
    "5. Accept and select the install location.<br />\n",
    "<img src=\"images/Miniconda_Windows-2.png\" align=\"center\" /><br />\n",
    "6. Once the installation is complete, you will se something like this:<br />\n",
    "<img src=\"images/Miniconda_Windows-3.png\" align=\"center\" /><br />\n",
    "7. Then go to the start menu and open Anaconda prompt.<br />\n",
    "<img src=\"images/Miniconda_Windows-4.png\" align=\"center\" /><br />\n",
    "8. In the Anaconda prompt, type `conda install -c conda-forge conda`<br />\n",
    "<img src=\"images/Miniconda_Windows-5.png\" align=\"center\" /><br />\n",
    "9. Once this is done, type\n",
    "```\n",
    "conda install -c conda-forge numpy scipy numexpr scikit-learn sympy pandas matplotlib basemap cartopy netcdf4 hdf5 cython ipython notebook spyder xarray\n",
    "```"
   ]
  },
  {
   "cell_type": "markdown",
   "metadata": {},
   "source": [
    "## Uninstalling Miniconda\n",
    "-------------------------------------------------------------------\n",
    "\n",
    "### For MacOSX and Linux\n",
    "* Just remove the folder where Miniconda is installed\n",
    "* Remove the 2 lines added by the Miniconda installer in your `.bash_profile` and you're done!\n",
    "\n",
    "### For Windows\n",
    "Use the uninstall script in the folder where you install Miniconda.\n",
    "\n",
    "__Note__: Do not uninstall Miniconda from the Control Panel as it doesn't remove Miniconda from Windows completely."
   ]
  },
  {
   "cell_type": "markdown",
   "metadata": {},
   "source": [
    "# (Optional)"
   ]
  },
  {
   "cell_type": "markdown",
   "metadata": {},
   "source": [
    "# Jupyter Notebook (formerly IPython Notebook)\n",
    "------------------------------------------------------------------------\n",
    "\n",
    "The notebook is basically a \"lab book\" where you can write code, make plots and put in text. Here are some things you can do with the Notebook:"
   ]
  },
  {
   "cell_type": "markdown",
   "metadata": {},
   "source": [
    "## Code execution"
   ]
  },
  {
   "cell_type": "code",
   "execution_count": null,
   "metadata": {},
   "outputs": [],
   "source": [
    "print(\"Hello World!\")"
   ]
  },
  {
   "cell_type": "markdown",
   "metadata": {},
   "source": [
    "## Text (Markdown)\n",
    "\n",
    "Here's some text.\n",
    "\n",
    "Lists:\n",
    "* [Learn Python the Hard Way](https://learnpythonthehardway.org/)\n",
    "* [Dive into Python](http://www.diveintopython3.net/)\n",
    "\n",
    "Code snippets:\n",
    "\n",
    "    print(\"Hello World!\")\n",
    "    \n",
    "$\\LaTeX$ equations\n",
    "\n",
    "$$\\int_{0}^\\infty e^{-x^2} dx = \\sqrt{\\pi}/2$$\n",
    "$$\n",
    "F(x,y) = 0 ~~\\mbox{and}~~ Hessian, H = \n",
    "\\left| \\begin{array}{cc}\n",
    "\\frac{\\partial^{2}\\psi}{\\partial^{}x^2} & \\frac{\\partial^{2}\\psi}{\\partial^{}x \\partial y} \\\\\n",
    "\\frac{\\partial^{2}\\psi}{\\partial^{}x \\partial y} & \\frac{\\partial^{2}\\psi}{\\partial^{}x^2}\n",
    "\\end{array}\\right|\n",
    "$$"
   ]
  },
  {
   "cell_type": "markdown",
   "metadata": {},
   "source": [
    "## Plots"
   ]
  },
  {
   "cell_type": "code",
   "execution_count": null,
   "metadata": {},
   "outputs": [],
   "source": [
    "import matplotlib.pyplot as plt\n",
    "%matplotlib inline\n",
    "\n",
    "x = [0, 1, 4, 9, 16, 25, 36, 49, 64]\n",
    "plt.plot(x)"
   ]
  },
  {
   "cell_type": "markdown",
   "metadata": {},
   "source": [
    "## Starting and using Notebook\n",
    "\n",
    "I highly recommend the following sources for using Jupyter Notebooks:\n",
    "\n",
    "[Getting started with Jupyter Notebook](https://jupyter-notebook-beginner-guide.readthedocs.io/en/latest/execute.html)\n",
    "\n",
    "[Notebook Basics](http://nbviewer.jupyter.org/github/jupyter/notebook/blob/master/docs/source/examples/Notebook/Notebook%20Basics.ipynb)\n",
    "\n",
    "Starting notebooks is done by typing `jupyter-notebook` in the Anaconda prompt (Windows) or Terminal(Mac and Linux). Again, this is provided you have already installed Jupyter Notebook package by following the installation instructions in the previous few sections.\n",
    "\n",
    "**NOTE** :\n",
    "\n",
    "1. You have to be in the folder where the notebook is located before running Jupyter Notebook.\n",
    "2. Closing a Notebook will not kill Jupyter notebook. To kill `jupyter-notebook`, you need to go back to the Prompt or Terminal and press `ctrl+c` (`Command+c` for Mac) twice to close the notebook server. This will close Notebook properly.\n",
    "\n",
    "## Main IPython features\n",
    "\n",
    "### Getting help\n",
    "\n",
    "You can use question mark in order to get help. To execute cell you have to press *Shift+Enter*\n",
    "\n",
    "?\n",
    "\n",
    "Question mark after a function will open pager with documentation. Double question mark will show you source code of the function. \n",
    "\n",
    "plt.plot?\n",
    "\n",
    "Press SHIFT+TAB after opening bracket in order to get help for the function (list of arguments, doc string).\n",
    "\n",
    "range(\n",
    "\n",
    "### Magic functions\n",
    "\n",
    "The magic function system provides a series of functions which allow you to\n",
    "control the behavior of IPython itself, plus a lot of system-type\n",
    "features.\n",
    "\n",
    "Let's create some set of numbers using [range](http://docs.python.org/3/library/functions.html#range) command:"
   ]
  },
  {
   "cell_type": "code",
   "execution_count": null,
   "metadata": {},
   "outputs": [],
   "source": [
    "range(10)"
   ]
  },
  {
   "cell_type": "markdown",
   "metadata": {},
   "source": [
    "And find out how long does it take to run it with *%timeit* magic function:"
   ]
  },
  {
   "cell_type": "code",
   "execution_count": null,
   "metadata": {},
   "outputs": [],
   "source": [
    "%timeit range(10)"
   ]
  },
  {
   "cell_type": "markdown",
   "metadata": {},
   "source": [
    "Print all interactive variables (similar to Matlab function):"
   ]
  },
  {
   "cell_type": "code",
   "execution_count": null,
   "metadata": {},
   "outputs": [],
   "source": [
    "%whos"
   ]
  },
  {
   "cell_type": "markdown",
   "metadata": {},
   "source": [
    "The above information about ~~IPython~~ Jupyter Notebook was obtained from [Python for Geosciences](https://github.com/koldunovn/python_for_geosciences)"
   ]
  },
  {
   "cell_type": "markdown",
   "metadata": {},
   "source": [
    "I highly recommend that you go through these before using Jupyter Notebooks:\n",
    "\n",
    "[Getting started with Jupyter Notebook](https://jupyter-notebook-beginner-guide.readthedocs.io/en/latest/execute.html)\n",
    "\n",
    "[Notebook Basics](http://nbviewer.jupyter.org/github/jupyter/notebook/blob/master/docs/source/examples/Notebook/Notebook%20Basics.ipynb)"
   ]
  }
 ],
 "metadata": {
  "kernelspec": {
   "display_name": "Python 3",
   "language": "python",
   "name": "python3"
  },
  "language_info": {
   "codemirror_mode": {
    "name": "ipython",
    "version": 3
   },
   "file_extension": ".py",
   "mimetype": "text/x-python",
   "name": "python",
   "nbconvert_exporter": "python",
   "pygments_lexer": "ipython3",
   "version": "3.6.4"
  },
  "toc": {
   "colors": {
    "hover_highlight": "#DAA520",
    "navigate_num": "#000000",
    "navigate_text": "#333333",
    "running_highlight": "#FF0000",
    "selected_highlight": "#FFD700",
    "sidebar_border": "#EEEEEE",
    "wrapper_background": "#FFFFFF"
   },
   "moveMenuLeft": true,
   "nav_menu": {
    "height": "318px",
    "width": "252px"
   },
   "navigate_menu": true,
   "number_sections": false,
   "sideBar": true,
   "threshold": 4,
   "toc_cell": false,
   "toc_section_display": "block",
   "toc_window_display": false,
   "widenNotebook": false
  }
 },
 "nbformat": 4,
 "nbformat_minor": 2
}
