{
 "cells": [
  {
   "cell_type": "markdown",
   "metadata": {},
   "source": [
    "# SciPy\n",
    "-------------------------------------------------------------------\n",
    "\n",
    "Kushal Keshavamurthy Raviprakash\n",
    "\n",
    "kushalkr2992@gmail.com\n",
    "\n",
    "This notebook is a part of the [Python for Earth and Atmospheric Sciences](https://github.com/Kushalkr/Python_for_Earth_and_Atmospheric_Sciences) workshop."
   ]
  },
  {
   "cell_type": "code",
   "execution_count": null,
   "metadata": {},
   "outputs": [],
   "source": [
    "%matplotlib inline\n",
    "import matplotlib.pyplot as plt"
   ]
  },
  {
   "cell_type": "markdown",
   "metadata": {},
   "source": [
    "## Introduction\n",
    "-------------------------------------------------------------------\n",
    "\n",
    "**SciPy** is an acronym for **Sci**entific **Py**thon. <img src=\"images/scipy.png\" style=\"float: right\" />\n",
    "\n",
    "According to the official website of [SciPy](https://www.scipy.org):\n",
    "> SciPy is a Python-based ecosystem of open-source software for mathematics, science, and engineering.\n",
    "\n",
    "But, there is also a library called `scipy` which is a package that forms one of the core packages of the SciPy ecosystem called SciPy stack.\n",
    "\n",
    "The `scipy` library provides user-friendly and efficient numerical algorithms in python such as numerical integration and interpolation."
   ]
  },
  {
   "cell_type": "markdown",
   "metadata": {},
   "source": [
    "The `scipy` packages has several submodules with various functions. These functions are classified as follows:\n",
    "* [Basic functions](https://docs.scipy.org/doc/scipy/reference/tutorial/basic.html)\n",
    "* [Special functions](https://docs.scipy.org/doc/scipy/reference/tutorial/special.html) ( `scipy.special` )\n",
    "* [Integration](https://docs.scipy.org/doc/scipy/reference/tutorial/integrate.html) ( `scipy.integrate` )\n",
    "* [Optimization](https://docs.scipy.org/doc/scipy/reference/tutorial/optimize.html) ( `scipy.optimize` )\n",
    "* [Interpolation](https://docs.scipy.org/doc/scipy/reference/tutorial/interpolate.html) ( `scipy.interpolate` )\n",
    "* [Fourier Transforms](https://docs.scipy.org/doc/scipy/reference/tutorial/fftpack.html) ( `scipy.fftpack` )\n",
    "* [Signal Processing](https://docs.scipy.org/doc/scipy/reference/tutorial/signal.html) ( `scipy.signal` )\n",
    "* [Linear Algebra](https://docs.scipy.org/doc/scipy/reference/tutorial/linalg.html) ( `scipy.linalg` )\n",
    "* [Sparse Eigenvalue Problems with ARPACK](https://docs.scipy.org/doc/scipy/reference/tutorial/arpack.html)\n",
    "* [Compressed Sparse Graph Routines](https://docs.scipy.org/doc/scipy/reference/tutorial/csgraph.html) ( `scipy.sparse.csgraph` )\n",
    "* [Spatial data structures and algorithms](https://docs.scipy.org/doc/scipy/reference/tutorial/spatial.html) ( `scipy.spatial` )\n",
    "* [Statistics](https://docs.scipy.org/doc/scipy/reference/tutorial/stats.html) ( `scipy.stats` )\n",
    "* [Multidimensional image processing](https://docs.scipy.org/doc/scipy/reference/tutorial/ndimage.html) ( `scipy.ndimage` )\n",
    "* [File IO](https://docs.scipy.org/doc/scipy/reference/tutorial/io.html) ( `scipy.io` )"
   ]
  },
  {
   "cell_type": "markdown",
   "metadata": {},
   "source": [
    "As it stands, I will only be discussing the `scipy.interpolate`, `scipy.linalg` and `scipy.io` followed by I/O of common data formats used in the Earth and Atmospheric sciences.\n",
    "\n",
    "we can import scipy in our programs as:\n",
    "```py\n",
    "import scipy\n",
    "```\n",
    "or\n",
    "\n",
    "```py\n",
    "import scipy as sp\n",
    "```\n",
    "I will stick to the former."
   ]
  },
  {
   "cell_type": "code",
   "execution_count": null,
   "metadata": {},
   "outputs": [],
   "source": [
    "import scipy.linalg as la"
   ]
  },
  {
   "cell_type": "markdown",
   "metadata": {},
   "source": [
    "## Linear Albegra\n",
    "-------------------------------------------------------------------\n",
    "\n",
    "We discussed some linear algebra with `numpy.linalg`. Alternatively, there is a sub-module called `linalg` within `scipy` too. So, now we have both `numpy.linalg` and `scipy.linalg`. Which one is better? The answer is `scipy.linalg`. The reason is that some matrix operations such as inverse require that we convert our `numpy.ndarray` to a `numpy.matrix` class whereas, the `scipy.linalg` sub-module provides functions which can be applied to `numpy.ndarray` just the same.\n",
    "\n",
    "Let's try some examples."
   ]
  },
  {
   "cell_type": "code",
   "execution_count": null,
   "metadata": {},
   "outputs": [],
   "source": [
    "import numpy as np\n",
    "\n",
    "A = np.random.randn(5,5)\n",
    "A"
   ]
  },
  {
   "cell_type": "code",
   "execution_count": null,
   "metadata": {
    "scrolled": true
   },
   "outputs": [],
   "source": [
    "la.inv(A)"
   ]
  },
  {
   "cell_type": "markdown",
   "metadata": {},
   "source": [
    "Let's solve the equation:\n",
    "\n",
    "$$\n",
    "\\begin{align*}\n",
    "2x +y + 3z &= 15 \\\\\n",
    "-3y + z &= 7 \\\\\n",
    "x + z &= 6\n",
    "\\end{align*}\n",
    "$$\n",
    "This is of the form $Ax=b$. Where, \n",
    "$$A = \\left [ \\begin{array}{ccc}\n",
    "2 & 1 & 3 \\\\\n",
    "0 & -3 & 1 \\\\\n",
    "1 & 0 & 1 \\end{array}\\right ]\n",
    ",~\n",
    "b = \\left [ \\begin{array}{c}\n",
    "15 \\\\\n",
    "7 \\\\\n",
    "6 \\end{array}\\right ]\n",
    "\\text{and} ~x = \\left [ \\begin{array}{c}\n",
    "x \\\\\n",
    "y \\\\\n",
    "z \\end{array}\\right ]\n",
    "$$\n",
    "\n",
    "We can solve this using the inverse method:\n",
    "$$\n",
    "x = \n",
    "\\left [ \\begin{array}{c}\n",
    "x \\\\\n",
    "y \\\\\n",
    "z \\end{array}\\right ]\n",
    " = \\left [ \\begin{array}{ccc}\n",
    "2 & 1 & 3 \\\\\n",
    "0 & -3 & 1 \\\\\n",
    "1 & 0 & 1 \\end{array}\\right ]^{-1}\\cdot ~\\left [ \\begin{array}{c}\n",
    "15 \\\\\n",
    "7 \\\\\n",
    "6 \\end{array}\\right ]\n",
    "$$\n"
   ]
  },
  {
   "cell_type": "code",
   "execution_count": null,
   "metadata": {
    "scrolled": true
   },
   "outputs": [],
   "source": [
    "A = np.array([ [2, 1, 3], [0, -3, 1], [1, 0, 1] ])\n",
    "b = np.array([ [15], [7], [6] ])\n",
    "b"
   ]
  },
  {
   "cell_type": "code",
   "execution_count": null,
   "metadata": {},
   "outputs": [],
   "source": [
    "la.inv(A).dot(b)"
   ]
  },
  {
   "cell_type": "markdown",
   "metadata": {},
   "source": [
    "This can also be solved as below"
   ]
  },
  {
   "cell_type": "code",
   "execution_count": null,
   "metadata": {},
   "outputs": [],
   "source": [
    "la.solve(A,b) # This method is faster"
   ]
  },
  {
   "cell_type": "markdown",
   "metadata": {},
   "source": [
    "You can also find the determinant of an array as shown below."
   ]
  },
  {
   "cell_type": "code",
   "execution_count": null,
   "metadata": {},
   "outputs": [],
   "source": [
    "la.det(A)"
   ]
  },
  {
   "cell_type": "markdown",
   "metadata": {},
   "source": [
    "You can get the norm as well."
   ]
  },
  {
   "cell_type": "code",
   "execution_count": null,
   "metadata": {},
   "outputs": [],
   "source": [
    "la.norm(A)"
   ]
  },
  {
   "cell_type": "markdown",
   "metadata": {},
   "source": [
    "The eigenvalues and eigenvectors can be calculated as shown."
   ]
  },
  {
   "cell_type": "code",
   "execution_count": null,
   "metadata": {
    "scrolled": true
   },
   "outputs": [],
   "source": [
    "evals, evecs = la.eig(A) #eigenvalues are stored in evals and eigenvectors are stored in evecs\n",
    "print(evals, '\\n\\n', evecs)"
   ]
  },
  {
   "cell_type": "markdown",
   "metadata": {},
   "source": [
    "## Interpolation\n",
    "-------------------------------------------------------------------"
   ]
  },
  {
   "cell_type": "markdown",
   "metadata": {},
   "source": [
    "### 1-Dimensional Interpolation"
   ]
  },
  {
   "cell_type": "markdown",
   "metadata": {},
   "source": [
    "We will use the **`interp1d`** class of the **`scipy.interpolate`** sub-module which generates a interpolation function based on the known values."
   ]
  },
  {
   "cell_type": "code",
   "execution_count": null,
   "metadata": {},
   "outputs": [],
   "source": [
    "import scipy.interpolate as interp\n",
    "\n",
    "x = np.linspace(0, 10, 11) # The initial coarse data \n",
    "y = np.cos(x**2/5.) # The function using the coarse data\n",
    "\n",
    "f = interp.interp1d(x, y) # 1-D interpolation function using piecewise linear interpolation.\n",
    "f2 = interp.interp1d(x, y, kind='cubic') # 1-D interpolation function using piecewise cubic interpolation.\n",
    "\n",
    "xnew = np.linspace(0,10, 51) # Finer input data.\n",
    "\n",
    "y1 = f(xnew) # Curve with linearly interpolated values\n",
    "y2 = f2(xnew) # interpolated values of the function using piecewise cubic interpolation\n",
    "\n",
    "#Let's see what out interpolation functions have done for us.\n",
    "# You may not understand the follwing lines of code yet, but bear with me.\n",
    "\n",
    "plt.plot(x, y, 'o', xnew, y1, '-', xnew, y2, '--')\n",
    "plt.legend(['data', 'linear', 'cubic'], loc='best')\n",
    "plt.xlim(0, 10)\n",
    "plt.ylim(-1.5,1.5)\n",
    "plt.show()"
   ]
  },
  {
   "cell_type": "markdown",
   "metadata": {},
   "source": [
    "You are not required to understand the plotting code at the moment. But just run it to see what the interpolation has yielded."
   ]
  },
  {
   "cell_type": "markdown",
   "metadata": {},
   "source": [
    "### Multivariate Interpolation"
   ]
  },
  {
   "cell_type": "markdown",
   "metadata": {},
   "source": [
    "What if we have data that is not one dimensional but something such as an image or gridded data in the fields of Earth and Atmospheric Sciences which have latitudes longitudes and depth or vertical levels? How do we interpolate in such a case?\n",
    "\n",
    "Scipy has a function for this, called **`griddata`**. **`griddata`** performs the interpolation and return the interpolated data as a grid.\n",
    "\n",
    "Let us see an example of how it is done."
   ]
  },
  {
   "cell_type": "code",
   "execution_count": null,
   "metadata": {},
   "outputs": [],
   "source": [
    "# define a function to generate values\n",
    "def func(x, y):\n",
    "    return x*(1-x)*np.cos(4*np.pi*x) * np.sin(4*np.pi*y**2)**2\n",
    "\n",
    "grid_x, grid_y = np.mgrid[0:1:100j, 0:1:200j] # create a grid in [0,1]x[0,1]\n",
    "points = np.random.rand(1000, 2)\n",
    "values = func(points[:,0], points[:,1])\n",
    "\n",
    "grid_z0 = interp.griddata(points, values, (grid_x, grid_y), method='nearest')\n",
    "grid_z1 = interp.griddata(points, values, (grid_x, grid_y), method='linear')\n",
    "grid_z2 = interp.griddata(points, values, (grid_x, grid_y), method='cubic')\n",
    "\n",
    "# Visualization of our interpolation\n",
    "plt.subplot(221)\n",
    "plt.imshow(func(grid_x, grid_y).T, extent=(0,1,0,1), origin='lower')\n",
    "plt.plot(points[:,0], points[:,1], 'k.', ms=1)\n",
    "plt.title('Original')\n",
    "plt.subplot(222)\n",
    "plt.imshow(grid_z0.T, extent=(0,1,0,1), origin='lower')\n",
    "plt.title('Nearest')\n",
    "plt.subplot(223)\n",
    "plt.imshow(grid_z1.T, extent=(0,1,0,1), origin='lower')\n",
    "plt.title('Linear')\n",
    "plt.subplot(224)\n",
    "plt.imshow(grid_z2.T, extent=(0,1,0,1), origin='lower')\n",
    "plt.title('Cubic')\n",
    "plt.gcf().set_size_inches(8, 8)\n",
    "plt.show()"
   ]
  },
  {
   "cell_type": "markdown",
   "metadata": {},
   "source": [
    "There are many other interpolation methods within the **`scipy.interpolate`** sub-module. \n",
    "\n",
    "Please refer to the [Further Reading](#Further Reading) section for more details."
   ]
  },
  {
   "cell_type": "markdown",
   "metadata": {},
   "source": [
    "## I/O of common data formats in the Earth and Atmospheric Sciences\n",
    "-------------------------------------------------------------------\n"
   ]
  },
  {
   "cell_type": "markdown",
   "metadata": {},
   "source": [
    "### Text files (.txt)"
   ]
  },
  {
   "cell_type": "markdown",
   "metadata": {},
   "source": [
    "We have seen earlier in the I/O section of the python basics. But let's do an example with actual data.\n",
    "\n",
    "I will be using the Mauna Loa Carbon dioxide data. It is found in the **`data/`** directory of my repository with the file name **`co2_annmean_mlo.txt`**.\n",
    "\n",
    "It is an annual mean of the CO<sub>2</sub> data for the years **1959 - 2016**.\n",
    "\n",
    "Let us read in that data into a variable."
   ]
  },
  {
   "cell_type": "code",
   "execution_count": null,
   "metadata": {
    "scrolled": false
   },
   "outputs": [],
   "source": [
    "# Regular method\n",
    "f = open('data/co2_annmean_mlo.txt','r')\n",
    "data = []\n",
    "for line in f.readlines()[57:]:\n",
    "    data.append(line.split())\n",
    "data = np.array(data)\n",
    "f.close()\n",
    "print(data)\n",
    "print('\\n\\n\\n')\n",
    "\n",
    "\n",
    "#Alternate (better) method\n",
    "with open('data/co2_annmean_mlo.txt','r') as f:\n",
    "    data = np.array([line.split() for line in f.readlines()[57:]])\n",
    "print(data)"
   ]
  },
  {
   "cell_type": "markdown",
   "metadata": {},
   "source": [
    "### Comma Separated Values (.csv)"
   ]
  },
  {
   "cell_type": "markdown",
   "metadata": {},
   "source": [
    "To demonstrate I/O of csv files, I will use weather data for the year 2013, collected at Bloomington, IN (Courtesy of [Dr. Cody Kirkpatrick](http://geology.indiana.edu/kirkpatrick/)). The file can be located in the **`data/`** directory bearing the file name **`KBMG-2013.csv`**."
   ]
  },
  {
   "cell_type": "code",
   "execution_count": null,
   "metadata": {
    "scrolled": true
   },
   "outputs": [],
   "source": [
    "# Using NumPy\n",
    "import numpy as np\n",
    "from datetime import datetime # For pretty plotting\n",
    "\n",
    "# Read the Data\n",
    "data = np.genfromtxt('data/KBMG-2013.csv', delimiter=',', names=True, dtype=None)\n",
    "\n",
    "# Initializing \n",
    "year=[]\n",
    "day = []\n",
    "month = []\n",
    "hour = []\n",
    "T = []\n",
    "\n",
    "# Populating the lists with data\n",
    "\n",
    "for i in range(len(data)):\n",
    "    year.append(data[i][0]) # First column of every row holds the year\n",
    "    month.append(data[i][1]) # Second column of every row holds the year\n",
    "    day.append(data[i][2]) # Third column of every row holds the year\n",
    "    hour.append(data[i][3]) # Forth column of every row holds the year\n",
    "    T.append(data[i][20]) # Twenty-first column of every row holds the temperature data\n",
    "    \n",
    "T = np.array(T, dtype = np.float64) # converting to an array\n",
    "\n",
    "# These two lines help with the plotting\n",
    "date = list(zip(year, month, day, hour)) \n",
    "newdate = [datetime(*i) for i in date]\n",
    "\n",
    "# Visualization\n",
    "\n",
    "plt.figure(figsize=(20,5))\n",
    "ax = plt.subplot()\n",
    "ax.plot(newdate, T, 'b-', linewidth=0.5)\n",
    "#ax.set_xlim(0,11625)\n",
    "ax.grid(linestyle='--')\n",
    "plt.show()"
   ]
  },
  {
   "cell_type": "markdown",
   "metadata": {},
   "source": [
    "### NetCDF Files (.nc)"
   ]
  },
  {
   "cell_type": "markdown",
   "metadata": {},
   "source": [
    "**NetCDF** is short for Network Common Data format. In Earth and Atmospheric Sciences, this is one of the most common file formats. NetCDF files are what are called self describing file due to the fact that they don't just contain data but also some _metadata_ about the data.\n",
    "\n",
    "Let us try reading from a netCDF file and view the contents of a netCDF file."
   ]
  },
  {
   "cell_type": "markdown",
   "metadata": {},
   "source": [
    "Pure python does not support I/O of the NetCDF file format. So, We will see a couple of modules which will help us open, view and retrieve contents of a NetCDF file."
   ]
  },
  {
   "cell_type": "markdown",
   "metadata": {},
   "source": [
    "#### 1. Using the `netcdf` submodule of  `scipy.io`"
   ]
  },
  {
   "cell_type": "code",
   "execution_count": null,
   "metadata": {},
   "outputs": [],
   "source": [
    "from scipy.io import netcdf\n",
    "\n",
    "f = netcdf.netcdf_file('data/ECMWF_ERA-40_subset.nc','r')\n",
    "print(f.variables.keys())\n",
    "time = f.variables['time'][:].copy()\n",
    "lat = f.variables['latitude'][:].copy()\n",
    "lon = f.variables['longitude'][:].copy()\n",
    "tcw = f.variables['tcw'][:].copy()\n",
    "f.close()"
   ]
  },
  {
   "cell_type": "markdown",
   "metadata": {},
   "source": [
    "#### 2. Using the `netcdf4-python` module"
   ]
  },
  {
   "cell_type": "markdown",
   "metadata": {},
   "source": [
    "To open a NetCDF file with the netcdf4-python module, we use the **`Dataset`** function as shown:"
   ]
  },
  {
   "cell_type": "code",
   "execution_count": null,
   "metadata": {
    "scrolled": false
   },
   "outputs": [],
   "source": [
    "from netCDF4 import Dataset\n",
    "\n",
    "f = Dataset('data/ECMWF_ERA-40_subset.nc','r')\n",
    "print(f.dimensions.keys())\n",
    "print(f.variables.keys())\n",
    "print(f.variables['tcw'])"
   ]
  },
  {
   "cell_type": "markdown",
   "metadata": {},
   "source": [
    "## Further Reading\n",
    "-------------------------------------------------------------------\n",
    "* [Official SciPy Tutorial](https://docs.scipy.org/doc/scipy/reference/tutorial/)\n",
    "* [Scipy Lecture Notes](http://www.scipy-lectures.org/intro/scipy.html)\n",
    "* [Scientific Python Lectures - J R Johansson](http://nbviewer.jupyter.org/github/jrjohansson/scientific-python-lectures/blob/master/Lecture-3-Scipy.ipynb)"
   ]
  },
  {
   "cell_type": "markdown",
   "metadata": {},
   "source": [
    "We'll take a look at plotting with matplotlib next."
   ]
  }
 ],
 "metadata": {
  "kernelspec": {
   "display_name": "Python 3",
   "language": "python",
   "name": "python3"
  },
  "language_info": {
   "codemirror_mode": {
    "name": "ipython",
    "version": 3
   },
   "file_extension": ".py",
   "mimetype": "text/x-python",
   "name": "python",
   "nbconvert_exporter": "python",
   "pygments_lexer": "ipython3",
   "version": "3.6.4"
  },
  "toc": {
   "colors": {
    "hover_highlight": "#DAA520",
    "navigate_num": "#000000",
    "navigate_text": "#333333",
    "running_highlight": "#FF0000",
    "selected_highlight": "#FFD700",
    "sidebar_border": "#EEEEEE",
    "wrapper_background": "#FFFFFF"
   },
   "moveMenuLeft": true,
   "nav_menu": {
    "height": "282px",
    "width": "252px"
   },
   "navigate_menu": true,
   "number_sections": false,
   "sideBar": true,
   "threshold": 4,
   "toc_cell": false,
   "toc_section_display": "block",
   "toc_window_display": false,
   "widenNotebook": false
  }
 },
 "nbformat": 4,
 "nbformat_minor": 2
}
