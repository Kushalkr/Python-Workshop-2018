{
 "cells": [
  {
   "cell_type": "markdown",
   "metadata": {},
   "source": [
    "# Plotting using Matplotlib, Basemap and Cartopy \n",
    "-------------------------------------------------------------------\n",
    "\n",
    "Kushal Keshavamurthy Raviprakash\n",
    "\n",
    "kushalkr2992@gmail.com\n",
    "\n",
    "This notebook is a part of the [Python for Earth and Atmospheric Sciences](https://github.com/Kushalkr/Python_for_Earth_and_Atmospheric_Sciences) workshop."
   ]
  },
  {
   "cell_type": "code",
   "execution_count": null,
   "metadata": {},
   "outputs": [],
   "source": [
    "# This makes the\n",
    "%matplotlib inline "
   ]
  },
  {
   "cell_type": "markdown",
   "metadata": {},
   "source": [
    "## Matplotlib\n",
    "-------------------------------------------------------------------\n",
    "\n",
    "<img src=\"images/matplotlib.png\" style=\"float: right\"/> [Matplotlib](https://matplotlib.org/) is a python plotting library which can produce publication quality 2D plots. Matplotlib can also produce hardcopies of generated plots in a variety of file formats (.pdf, .ps, .eps, .png, etc..)\n",
    "\n",
    "Matplotlib can generate a different kinds of plots like line plots, bar plots, scatter plots, histograms, contour plots, etc...\n",
    "\n",
    "The advantage of using matplotlib is that the interface is very easy for the beginner but it also allows the advanced user to control different aspects of the plot such as the line style, font-style, font-size, markers, colors among several others."
   ]
  },
  {
   "cell_type": "markdown",
   "metadata": {},
   "source": [
    "### Pyplot\n",
    "\n",
    "Pyplot is a module in matplotlib that provides a `MATLAB`-like interface for plotting. We will use the pyplot module almost throughout the lecture.\n",
    "\n",
    "Matplotlib is generally imported as follows:"
   ]
  },
  {
   "cell_type": "code",
   "execution_count": null,
   "metadata": {},
   "outputs": [],
   "source": [
    "import matplotlib.pyplot as plt"
   ]
  },
  {
   "cell_type": "markdown",
   "metadata": {},
   "source": [
    "Let's create some data to produce some plots."
   ]
  },
  {
   "cell_type": "code",
   "execution_count": null,
   "metadata": {},
   "outputs": [],
   "source": [
    "import numpy as np\n",
    "x = np.linspace(-np.pi, np.pi, 256, endpoint=True)\n",
    "C, S = np.cos(x), np.sin(x)"
   ]
  },
  {
   "cell_type": "markdown",
   "metadata": {},
   "source": [
    "### Line Plot"
   ]
  },
  {
   "cell_type": "markdown",
   "metadata": {},
   "source": [
    "#### Making Simple Plots\n",
    "\n",
    "A simple line plot is created using the `plot()` method of `pyplot`."
   ]
  },
  {
   "cell_type": "code",
   "execution_count": null,
   "metadata": {},
   "outputs": [],
   "source": [
    "plt.plot(x, C)\n",
    "plt.plot(x, S)\n",
    "plt.show()"
   ]
  },
  {
   "cell_type": "markdown",
   "metadata": {},
   "source": [
    "The script for the plot can be found in the `scripts/matplotlib/` directory of my repository."
   ]
  },
  {
   "cell_type": "markdown",
   "metadata": {},
   "source": [
    "#### Changing colors and line width"
   ]
  },
  {
   "cell_type": "code",
   "execution_count": null,
   "metadata": {},
   "outputs": [],
   "source": [
    "#Create a new figure with width 10in and height 6in \n",
    "# with 80dots per inch resolution\n",
    "\n",
    "plt.figure(figsize=(8, 6), dpi=80)\n",
    "\n",
    "plt.plot(x, C, color=\"blue\", linewidth=2.5, linestyle=\"-\")\n",
    "plt.plot(x, S, color=\"red\", linewidth=2.5, linestyle=\"-\")"
   ]
  },
  {
   "cell_type": "markdown",
   "metadata": {},
   "source": [
    "#### Changing limits on the figure"
   ]
  },
  {
   "cell_type": "code",
   "execution_count": null,
   "metadata": {},
   "outputs": [],
   "source": [
    "#Create a new figure with width 10in and height 6in \n",
    "# with 80dots per inch resolution\n",
    "\n",
    "plt.figure(figsize=(8, 6), dpi=80)\n",
    "\n",
    "plt.plot(x, C, color=\"blue\", linewidth=2.5, linestyle=\"-\")\n",
    "plt.plot(x, S, color=\"red\", linewidth=2.5, linestyle=\"-\")\n",
    "\n",
    "plt.xlim(x.min()*1.1, x.max()*1.1)\n",
    "plt.ylim(C.min()*1.1, C.max()*1.1)"
   ]
  },
  {
   "cell_type": "markdown",
   "metadata": {},
   "source": [
    "#### Changing ticks on the axes"
   ]
  },
  {
   "cell_type": "code",
   "execution_count": null,
   "metadata": {},
   "outputs": [],
   "source": [
    "plt.figure(figsize=(8, 6), dpi=80)\n",
    "\n",
    "plt.plot(x, C, color=\"blue\", linewidth=2.5, linestyle=\"-\")\n",
    "plt.plot(x, S, color=\"red\", linewidth=2.5, linestyle=\"-\")\n",
    "\n",
    "plt.xlim(x.min()*1.1, x.max()*1.1)\n",
    "plt.ylim(C.min()*1.1, C.max()*1.1)\n",
    "\n",
    "plt.xticks([-np.pi, -np.pi/2, 0, np.pi/2, np.pi])\n",
    "plt.yticks([-1, 0, +1])\n",
    "plt.show()"
   ]
  },
  {
   "cell_type": "markdown",
   "metadata": {},
   "source": [
    "#### Changing tick labels on the axes"
   ]
  },
  {
   "cell_type": "code",
   "execution_count": null,
   "metadata": {},
   "outputs": [],
   "source": [
    "plt.figure(figsize=(8, 6), dpi=80)\n",
    "\n",
    "plt.plot(x, C, color=\"blue\", linewidth=2.5, linestyle=\"-\")\n",
    "plt.plot(x, S, color=\"red\", linewidth=2.5, linestyle=\"-\")\n",
    "\n",
    "plt.xlim(x.min()*1.1, x.max()*1.1)\n",
    "plt.ylim(C.min()*1.1, C.max()*1.1)\n",
    "\n",
    "plt.xticks([-np.pi, -np.pi/2, 0, np.pi/2, np.pi],\n",
    "       [r'$-\\pi$', r'$-\\pi/2$', r'$0$', r'$+\\pi/2$', r'$+\\pi$'])\n",
    "\n",
    "plt.yticks([-1, 0, +1],\n",
    "       [r'$-1$', r'$0$', r'$+1$'])\n",
    "\n",
    "plt.show()"
   ]
  },
  {
   "cell_type": "markdown",
   "metadata": {},
   "source": [
    "#### Shorthand method of defining markers and linestyles"
   ]
  },
  {
   "cell_type": "code",
   "execution_count": null,
   "metadata": {},
   "outputs": [],
   "source": [
    "plt.figure(figsize=(8, 6), dpi=80)\n",
    "\n",
    "plt.plot(x, C, '-.b')\n",
    "plt.plot(x, S, \"--r\")\n",
    "\n",
    "plt.xlim(x.min()*1.1, x.max()*1.1)\n",
    "plt.ylim(C.min()*1.1, C.max()*1.1)\n",
    "\n",
    "plt.xticks([-np.pi, -np.pi/2, 0, np.pi/2, np.pi],\n",
    "       [r'$-\\pi$', r'$-\\pi/2$', r'$0$', r'$+\\pi/2$', r'$+\\pi$'])\n",
    "\n",
    "plt.yticks([-1, 0, +1],\n",
    "       [r'$-1$', r'$0$', r'$+1$'])\n",
    "\n",
    "plt.show()"
   ]
  },
  {
   "cell_type": "code",
   "execution_count": null,
   "metadata": {},
   "outputs": [],
   "source": [
    "x = np.linspace(0,10, 20)\n",
    "\n",
    "plt.plot(x, x**2, 'r-o', x, x**2.1, 'g^--', x, x**2.2, 'bs-' ) # 3 plots combined in one command with required style\n",
    "plt.legend(['$x^2$', '$x^{2.1}$', '$x^{2.2}$']) # Draws legend with LaTeX style label\n",
    "plt.show()"
   ]
  },
  {
   "cell_type": "markdown",
   "metadata": {},
   "source": [
    "### Scatter Plot"
   ]
  },
  {
   "cell_type": "code",
   "execution_count": null,
   "metadata": {},
   "outputs": [],
   "source": [
    "import numpy as np\n",
    "import matplotlib.pyplot as plt\n",
    "\n",
    "x = np.random.rand(50)\n",
    "y = np.random.rand(50)\n",
    "color = np.random.rand(50)\n",
    "area = np.pi * (15 * np.random.rand(50))**2 # sizes of circles in the range of 0 to 10\n",
    "\n",
    "plt.scatter(x, y, s=area, c=color, alpha=0.4)\n",
    "plt.show()"
   ]
  },
  {
   "cell_type": "markdown",
   "metadata": {},
   "source": [
    "### Histogram"
   ]
  },
  {
   "cell_type": "code",
   "execution_count": null,
   "metadata": {},
   "outputs": [],
   "source": [
    "mu, sigma = 100, 15\n",
    "x = mu + sigma * np.random.randn(10000)\n",
    "\n",
    "n, bins, patches = plt.hist(x, 50, normed=1, facecolor='b', alpha=0.5)\n",
    "\n",
    "plt.xlabel('Smarts')\n",
    "plt.ylabel('Probability')\n",
    "plt.title('Histogram of IQ')\n",
    "plt.text(60, .025, r'$\\mu=100,\\ \\sigma=15$')\n",
    "plt.axis([40, 160, 0, 0.03])\n",
    "plt.grid(True)\n",
    "plt.show()"
   ]
  },
  {
   "cell_type": "markdown",
   "metadata": {},
   "source": [
    "If you want to make some funny graphs:"
   ]
  },
  {
   "cell_type": "code",
   "execution_count": null,
   "metadata": {},
   "outputs": [],
   "source": [
    "with plt.xkcd():\n",
    "    x = np.linspace(0.5,10, 50)\n",
    "    y = 1/x\n",
    "    plt.plot(x, y, 'r')\n",
    "    plt.xlabel('Time')\n",
    "    plt.ylabel('Motivation')\n",
    "    plt.xticks([])\n",
    "    plt.yticks([])\n",
    "    plt.show()"
   ]
  },
  {
   "cell_type": "markdown",
   "metadata": {},
   "source": [
    "#### Some advanced concepts"
   ]
  },
  {
   "cell_type": "markdown",
   "metadata": {},
   "source": [
    "Following example is from [matplotlib - 2D and 3D plotting in Python](http://nbviewer.ipython.org/urls/raw.github.com/jrjohansson/scientific-python-lectures/master/Lecture-4-Matplotlib.ipynb) - great place to start for people interested in matplotlib."
   ]
  },
  {
   "cell_type": "code",
   "execution_count": null,
   "metadata": {},
   "outputs": [],
   "source": [
    "n = np.array([0,1,2,3,4,5])\n",
    "xx = np.linspace(-0.75, 1., 100)\n",
    "x = np.linspace(0, 5, 10)\n",
    "\n",
    "fig, axes = plt.subplots(2, 2, figsize=(8,8))\n",
    "\n",
    "axes[0,0].scatter(xx, xx + 0.25*np.random.randn(len(xx)))\n",
    "\n",
    "axes[0,1].step(n, n**2, lw=2)\n",
    "\n",
    "axes[1,0].bar(n, n**2, align=\"center\", width=0.5, alpha=0.5)\n",
    "\n",
    "axes[1,1].fill_between(x, x**2, x**3, color=\"green\", alpha=0.5);"
   ]
  },
  {
   "cell_type": "markdown",
   "metadata": {},
   "source": [
    "The best way to start plotting something complicated is to go to the [matplotlib gallery](https://matplotlib.org/gallery.html) and find the plot closest to your requirement and then modify/build on it."
   ]
  },
  {
   "cell_type": "markdown",
   "metadata": {},
   "source": [
    "You can also directly load python code to your notebook. Even from the internet!"
   ]
  },
  {
   "cell_type": "code",
   "execution_count": null,
   "metadata": {},
   "outputs": [],
   "source": [
    "# %load http://matplotlib.org/mpl_examples/pylab_examples/griddata_demo.py\n",
    "from numpy.random import uniform, seed\n",
    "from matplotlib.mlab import griddata\n",
    "import matplotlib.pyplot as plt\n",
    "import numpy as np\n",
    "# make up data.\n",
    "#npts = int(raw_input('enter # of random points to plot:'))\n",
    "seed(0)\n",
    "npts = 200\n",
    "x = uniform(-2, 2, npts)\n",
    "y = uniform(-2, 2, npts)\n",
    "z = x*np.exp(-x**2 - y**2)\n",
    "# define grid.\n",
    "xi = np.linspace(-2.1, 2.1, 100)\n",
    "yi = np.linspace(-2.1, 2.1, 200)\n",
    "# grid the data.\n",
    "zi = griddata(x, y, z, xi, yi, interp='linear')\n",
    "# contour the gridded data, plotting dots at the nonuniform data points.\n",
    "CS = plt.contour(xi, yi, zi, 15, linewidths=0.5, colors='k')\n",
    "CS = plt.contourf(xi, yi, zi, 15,\n",
    "                  vmax=abs(zi).max(), vmin=-abs(zi).max())\n",
    "plt.colorbar()  # draw colorbar\n",
    "# plot data points.\n",
    "plt.scatter(x, y, marker='o', s=5, zorder=10)\n",
    "plt.xlim(-2, 2)\n",
    "plt.ylim(-2, 2)\n",
    "plt.title('griddata test (%d points)' % npts)\n",
    "plt.show()\n"
   ]
  },
  {
   "cell_type": "markdown",
   "metadata": {},
   "source": [
    "### Basemap"
   ]
  },
  {
   "cell_type": "markdown",
   "metadata": {},
   "source": [
    "There are a number of toolkits that can be added to matplotlib to provide additional capabilities for specific tasks.\n",
    "\n",
    "[Basemap](https://matplotlib.org/basemap/) is one such toolkit which works with matplotlib to draw maps and data on maps.\n",
    "\n",
    "Let's create a few maps with different projections. For this, I will use the NCEP Reanalysis data in the `data/` subdirectory of my repository."
   ]
  },
  {
   "cell_type": "code",
   "execution_count": null,
   "metadata": {},
   "outputs": [],
   "source": [
    "from netCDF4 import Dataset\n",
    "from mpl_toolkits.basemap import Basemap # This is how basemap is immported\n",
    "\n",
    "f = Dataset('data/air.mon.mean.nc','r')\n",
    "\n",
    "print(f.variables.keys())\n",
    "\n",
    "air = f.variables['air'][:].copy()\n",
    "lat = f.variables['lat'][:].copy()\n",
    "lon = f.variables['lon'][:].copy()\n",
    "\n",
    "f.close()"
   ]
  },
  {
   "cell_type": "markdown",
   "metadata": {},
   "source": [
    "Easiest way to plot the data is using `imshow`."
   ]
  },
  {
   "cell_type": "code",
   "execution_count": null,
   "metadata": {},
   "outputs": [],
   "source": [
    "plt.imshow(air[0,:,:])\n",
    "plt.colorbar()"
   ]
  },
  {
   "cell_type": "markdown",
   "metadata": {},
   "source": [
    "But we want a real map. Let's first get the coordinates."
   ]
  },
  {
   "cell_type": "code",
   "execution_count": null,
   "metadata": {},
   "outputs": [],
   "source": [
    "lon2, lat2 = np.meshgrid(lon, lat)\n",
    "lon2.shape"
   ]
  },
  {
   "cell_type": "code",
   "execution_count": null,
   "metadata": {},
   "outputs": [],
   "source": [
    "m = Basemap(projection='npstere', boundinglat=60, lon_0=0, resolution='l')\n",
    "x, y = m(lon2, lat2)"
   ]
  },
  {
   "cell_type": "code",
   "execution_count": null,
   "metadata": {},
   "outputs": [],
   "source": [
    "m.drawcoastlines()\n",
    "m.contourf(x, y, air[0,:,:])"
   ]
  },
  {
   "cell_type": "markdown",
   "metadata": {},
   "source": [
    "We can make the plot prettier by adding a few lines of code."
   ]
  },
  {
   "cell_type": "code",
   "execution_count": null,
   "metadata": {},
   "outputs": [],
   "source": [
    "fig = plt.figure(figsize=(15,7))\n",
    "m.fillcontinents(color='gray',lake_color='gray')\n",
    "m.drawcoastlines()\n",
    "m.drawparallels(np.arange(-80.,81.,20.))\n",
    "m.drawmeridians(np.arange(-180.,181.,20.))\n",
    "m.drawmapboundary(fill_color='white')\n",
    "m.contourf(x,y,air[0,:,:],40, cmap='jet')\n",
    "plt.title('Monthly mean Surface Air Temperature')\n",
    "plt.colorbar()"
   ]
  },
  {
   "cell_type": "markdown",
   "metadata": {},
   "source": [
    "You can change the type of map required by just changing the map instance while the rest of the code can remain the same."
   ]
  },
  {
   "cell_type": "code",
   "execution_count": null,
   "metadata": {},
   "outputs": [],
   "source": [
    "m = Basemap(projection='ortho', lat_0=45, lon_0=-100, resolution='l')\n",
    "x, y = m(lon2, lat2)"
   ]
  },
  {
   "cell_type": "code",
   "execution_count": null,
   "metadata": {},
   "outputs": [],
   "source": [
    "fig = plt.figure(figsize=(15,7))\n",
    "m.fillcontinents(color='gray',lake_color='gray')\n",
    "m.drawcoastlines()\n",
    "m.drawparallels(np.arange(-80.,81.,20.))\n",
    "m.drawmeridians(np.arange(-180.,181.,20.))\n",
    "m.drawmapboundary(fill_color='white')\n",
    "m.contourf(x,y,air[0,:,:],40, cmap='jet')\n",
    "plt.title('Monthly mean Surface Air Temperature')\n",
    "plt.colorbar()"
   ]
  },
  {
   "cell_type": "markdown",
   "metadata": {},
   "source": [
    "One more map example."
   ]
  },
  {
   "cell_type": "code",
   "execution_count": null,
   "metadata": {},
   "outputs": [],
   "source": [
    "m = Basemap(projection='cyl', urcrnrlat=90,llcrnrlat=-90, urcrnrlon=360,llcrnrlon=0, resolution='c')\n",
    "x, y = m(lon2, lat2)"
   ]
  },
  {
   "cell_type": "code",
   "execution_count": null,
   "metadata": {},
   "outputs": [],
   "source": [
    "fig = plt.figure(figsize=(15,7))\n",
    "m.fillcontinents(color='gray',lake_color='gray')\n",
    "m.drawcoastlines()\n",
    "m.drawparallels(np.arange(-80.,81.,20.))\n",
    "m.drawmeridians(np.arange(-180.,181.,20.))\n",
    "m.drawmapboundary(fill_color='white')\n",
    "m.contourf(x,y,air[0,:,:],40, cmap='jet')\n",
    "plt.title('Monthly mean Surface Air Temperature')\n",
    "plt.colorbar()"
   ]
  },
  {
   "cell_type": "markdown",
   "metadata": {},
   "source": [
    "This is not all you can do. You can plot other types of plots such as streamlines, vector plots, wind barb plots etc... Please refer to the links at the end of the notebook to learn how to do that."
   ]
  },
  {
   "cell_type": "markdown",
   "metadata": {},
   "source": [
    "### Cartopy\n",
    "\n",
    "Cartopy is a python package originally developed at the UK Met Office but, made open-source now. Cartopy makes drawing maps for plotting and data analysis easier.\n",
    "\n",
    "For our examples, we will use the data used in the previous examples of basemap."
   ]
  },
  {
   "cell_type": "code",
   "execution_count": null,
   "metadata": {},
   "outputs": [],
   "source": [
    "from netCDF4 import Dataset\n",
    "\n",
    "f = Dataset('data/air.mon.mean.nc','r')\n",
    "\n",
    "print(f.variables.keys())\n",
    "\n",
    "air = f.variables['air'][:].copy()\n",
    "lat = f.variables['lat'][:].copy()\n",
    "lon = f.variables['lon'][:].copy()\n",
    "time = f.variables['time'][:].copy()\n",
    "\n",
    "f.close()"
   ]
  },
  {
   "cell_type": "markdown",
   "metadata": {},
   "source": [
    "We will import cartopy as follows:"
   ]
  },
  {
   "cell_type": "code",
   "execution_count": null,
   "metadata": {},
   "outputs": [],
   "source": [
    "import cartopy.crs as ccrs\n",
    "import matplotlib.pyplot as plt\n",
    "\n",
    "fig = plt.figure(figsize=(10,6))\n",
    "ax = plt.axes(projection = ccrs.PlateCarree())\n",
    "ax.pcolormesh(lon, lat, air[0,:,:], transform = ccrs.PlateCarree(),cmap = 'gist_ncar')\n",
    "ax.coastlines()\n",
    "plt.show()"
   ]
  },
  {
   "cell_type": "markdown",
   "metadata": {},
   "source": [
    "## Further Reading\n",
    "--------------------------------------------------------\n",
    "* [Nicholas P. Rougier Matplotlib Tutorial](http://www.labri.fr/perso/nrougier/teaching/matplotlib/matplotlib.html)\n",
    "* [Scientific Python Lectures - J R Johansson](http://nbviewer.jupyter.org/github/jrjohansson/scientific-python-lectures/blob/master/Lecture-4-Matplotlib.ipynb)\n",
    "* [Matplotlib Example Gallery](https://matplotlib.org/gallery.html)\n",
    "* [Basemap Example Gallery](http://matplotlib.org/basemap/users/examples.html)\n",
    "* [Cartopy Example Gallery](http://scitools.org.uk/cartopy/docs/latest/gallery.html)"
   ]
  }
 ],
 "metadata": {
  "kernelspec": {
   "display_name": "Python 3",
   "language": "python",
   "name": "python3"
  },
  "language_info": {
   "codemirror_mode": {
    "name": "ipython",
    "version": 3
   },
   "file_extension": ".py",
   "mimetype": "text/x-python",
   "name": "python",
   "nbconvert_exporter": "python",
   "pygments_lexer": "ipython3",
   "version": "3.6.4"
  },
  "toc": {
   "colors": {
    "hover_highlight": "#DAA520",
    "navigate_num": "#000000",
    "navigate_text": "#333333",
    "running_highlight": "#FF0000",
    "selected_highlight": "#FFD700",
    "sidebar_border": "#EEEEEE",
    "wrapper_background": "#FFFFFF"
   },
   "moveMenuLeft": true,
   "nav_menu": {
    "height": "300px",
    "width": "252px"
   },
   "navigate_menu": true,
   "number_sections": false,
   "sideBar": true,
   "threshold": 4,
   "toc_cell": false,
   "toc_section_display": "block",
   "toc_window_display": true,
   "widenNotebook": false
  }
 },
 "nbformat": 4,
 "nbformat_minor": 2
}
