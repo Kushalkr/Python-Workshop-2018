{
 "cells": [
  {
   "cell_type": "markdown",
   "metadata": {},
   "source": [
    "# Introduction to XArray\n",
    "#### For more info about the xarray module, contact me at xuecliu@iu.edu\n",
    "The examples presented in this notebook can also be found at http://xarray.pydata.org/en/stable/index.html"
   ]
  },
  {
   "cell_type": "code",
   "execution_count": null,
   "metadata": {},
   "outputs": [],
   "source": [
    "import xarray as xr\n",
    "import pandas as pd\n",
    "import numpy as np\n",
    "import matplotlib.pyplot as plt"
   ]
  },
  {
   "cell_type": "markdown",
   "metadata": {
    "collapsed": true
   },
   "source": [
    "# XArray - http://xarray.pydata.org/en/stable/index.html\n",
    "- Multi dimensional computation\n",
    "- Slicing by any of the dimension\n",
    "- Built-in mathematical computation with NumPy package\n",
    "- Compatible with most Pandas functions"
   ]
  },
  {
   "cell_type": "markdown",
   "metadata": {
    "collapsed": true
   },
   "source": [
    "# What to expect from today's workshop\n",
    "- Use xarray to select dataset\n",
    "- 1-D and 2-D plotting / contour plotting with xarray and CartoPy\n",
    "- Simple time series analysis with Pandas"
   ]
  },
  {
   "cell_type": "code",
   "execution_count": null,
   "metadata": {},
   "outputs": [],
   "source": [
    "#For these examples we’ll use the North American air temperature dataset.\n",
    "airtemps = xr.tutorial.load_dataset('air_temperature')\n",
    "\n",
    "# data = xr.open_dataset('path_to_file')\n",
    "#Convert the temperature to celcius\n",
    "air = airtemps.air - 273.15\n",
    "\n",
    "airtemps\n",
    "air"
   ]
  },
  {
   "cell_type": "code",
   "execution_count": null,
   "metadata": {},
   "outputs": [],
   "source": [
    "#Select the data from 1 grid point\n",
    "air1d = air.isel(lat=10, lon=10)\n",
    "air1d.plot()\n",
    "plt.show()"
   ]
  },
  {
   "cell_type": "code",
   "execution_count": null,
   "metadata": {},
   "outputs": [],
   "source": [
    "#Play with the plot\n",
    "air1d[:200].plot.line(color='pink', marker='o')\n",
    "plt.show()"
   ]
  },
  {
   "cell_type": "code",
   "execution_count": null,
   "metadata": {},
   "outputs": [],
   "source": [
    "#Add another plot - horizontal\n",
    "fig, axes = plt.subplots(ncols=2)\n",
    "air1d.plot(ax=axes[0])\n",
    "air1d.plot.hist(ax=axes[1])\n",
    "plt.show()"
   ]
  },
  {
   "cell_type": "code",
   "execution_count": null,
   "metadata": {},
   "outputs": [],
   "source": [
    "#Add another plot - vertical\n",
    "fig, axes = plt.subplots(nrows=2)\n",
    "air1d.plot(ax=axes[0],color='orange')\n",
    "air1d.plot.hist(ax=axes[1],color='navy')\n",
    "plt.show()"
   ]
  },
  {
   "cell_type": "code",
   "execution_count": null,
   "metadata": {},
   "outputs": [],
   "source": [
    "#Overplot - multiple plots in one figure\n",
    "#A horizontal look at the temperature profile along one longitude\n",
    "p1 = air.isel(lon=10, lat=1).plot(color='grey')\n",
    "p2 = air.isel(lon=10, lat=7).plot(color='pink')\n",
    "p3 = air.isel(lon=10, lat=15).plot(color='salmon')\n",
    "p4 = air.isel(lon=10, lat=21).plot(color='indianred')\n",
    "coords = [str(air['lat'][1].values)+'°N',str(air['lat'][7].values)+'°N',\n",
    "          str(air['lat'][15].values)+'°N',str(air['lat'][21].values)+'°N']\n",
    "plt.title('air temp')\n",
    "plt.legend(coords,loc='best')\n",
    "plt.show()"
   ]
  },
  {
   "cell_type": "code",
   "execution_count": null,
   "metadata": {},
   "outputs": [],
   "source": [
    "#let's take a look at the data we plotted\n",
    "air.isel(lon=10, lat=1).shape"
   ]
  },
  {
   "cell_type": "code",
   "execution_count": null,
   "metadata": {},
   "outputs": [],
   "source": [
    "#Indexing the data\n",
    "#air['lat'][1]\n",
    "air['lon'][10]"
   ]
  },
  {
   "cell_type": "code",
   "execution_count": null,
   "metadata": {
    "scrolled": false
   },
   "outputs": [],
   "source": [
    "#Practice - plot the temporal variations\n",
    "#Requirements:\n",
    "# - Use location lat=24, lon=12, 25, 37, 50\n",
    "# - Use color 'teal', 'slategray', 'salmon', 'indianred' for each profile\n",
    "# - Label the plot, and add legend correspondently.\n",
    "\n",
    "p1 = air.isel(lat=24, lon=12).plot(color='#33A1C9')\n",
    "p2 = air.isel(lat=24, lon=25).plot(color='lightgrey')\n",
    "p3 = air.isel(lat=24, lon=37).plot(color='#EE9A00')\n",
    "p4 = air.isel(lat=24, lon=50).plot(color='green')\n",
    "\n",
    "coords = [str(air['lon'][12].values)+'°E',str(air['lon'][25].values)+'°E',\n",
    "          str(air['lon'][37].values)+'°E',str(air['lon'][50].values)+'°E']\n",
    "plt.title('air temp')\n",
    "plt.legend(coords,loc='best')\n",
    "plt.show()"
   ]
  },
  {
   "cell_type": "code",
   "execution_count": null,
   "metadata": {},
   "outputs": [],
   "source": [
    "# https://www.webucator.com/blog/2015/03/python-color-constants-module/\n",
    "air['lon']\n"
   ]
  },
  {
   "cell_type": "code",
   "execution_count": null,
   "metadata": {},
   "outputs": [],
   "source": [
    "#What about a whole map\n",
    "#2-dimensional\n",
    "air2d = air.isel(time=10)\n",
    "air2d.plot.contourf(levels=23)\n",
    "plt.show()"
   ]
  },
  {
   "cell_type": "code",
   "execution_count": null,
   "metadata": {},
   "outputs": [],
   "source": [
    "#Use another projection\n",
    "import cartopy.crs as ccrs"
   ]
  },
  {
   "cell_type": "code",
   "execution_count": null,
   "metadata": {},
   "outputs": [],
   "source": [
    "#Define axis\n",
    "ax = plt.axes(projection=ccrs.Robinson(central_longitude=-60))\n",
    "air2d.plot.contourf(ax=ax, transform=ccrs.PlateCarree())\n",
    "ax.set_global(); ax.coastlines()\n",
    "plt.show()"
   ]
  },
  {
   "cell_type": "code",
   "execution_count": null,
   "metadata": {},
   "outputs": [],
   "source": [
    "# https://matplotlib.org/examples/color/colormaps_reference.html\n",
    "ax = plt.axes(projection=ccrs.PlateCarree(central_longitude=-60))\n",
    "air2d.plot.contourf(ax=ax, transform=ccrs.PlateCarree(),cmap='Spectral_r', levels=23)\n",
    "# Lble the gridlines\n",
    "ax.gridlines(draw_labels=True, alpha=0.6, linestyle='--')\n",
    "ax.coastlines()\n",
    "plt.show()"
   ]
  },
  {
   "cell_type": "code",
   "execution_count": null,
   "metadata": {},
   "outputs": [],
   "source": [
    "#Pandas - Time series handling\n",
    "air['time.year']\n"
   ]
  },
  {
   "cell_type": "code",
   "execution_count": null,
   "metadata": {},
   "outputs": [],
   "source": [
    "#convert DataArray to pandas.Series\n",
    "airtemps['air']\n"
   ]
  },
  {
   "cell_type": "code",
   "execution_count": null,
   "metadata": {},
   "outputs": [],
   "source": [
    "newAir = airtemps['air'].to_series()\n",
    "newAir"
   ]
  },
  {
   "cell_type": "code",
   "execution_count": null,
   "metadata": {},
   "outputs": [],
   "source": [
    "air['time']"
   ]
  },
  {
   "cell_type": "code",
   "execution_count": null,
   "metadata": {},
   "outputs": [],
   "source": [
    "air.isel"
   ]
  },
  {
   "cell_type": "code",
   "execution_count": null,
   "metadata": {},
   "outputs": [],
   "source": [
    "janDat = air.sel(time=air['time.month'] == 1)\n",
    "janDat"
   ]
  },
  {
   "cell_type": "code",
   "execution_count": null,
   "metadata": {},
   "outputs": [],
   "source": [
    "decDat =air.sel(time=air['time.month'] == 12)\n",
    "decDat"
   ]
  },
  {
   "cell_type": "code",
   "execution_count": null,
   "metadata": {},
   "outputs": [],
   "source": [
    "s1 = (janDat.isel(lat=12,lon=12)).to_series()\n",
    "s2 = (decDat.isel(lat=12,lon=12)).to_series()\n",
    "s1.shape"
   ]
  },
  {
   "cell_type": "code",
   "execution_count": null,
   "metadata": {},
   "outputs": [],
   "source": [
    "c = s2.corr(s1[0:-1])\n",
    "c"
   ]
  },
  {
   "cell_type": "code",
   "execution_count": null,
   "metadata": {},
   "outputs": [],
   "source": [
    "s2.plot()\n",
    "plt.show()"
   ]
  },
  {
   "cell_type": "code",
   "execution_count": null,
   "metadata": {},
   "outputs": [],
   "source": [
    "np.corrcoef()"
   ]
  }
 ],
 "metadata": {
  "kernelspec": {
   "display_name": "Python 3",
   "language": "python",
   "name": "python3"
  },
  "language_info": {
   "codemirror_mode": {
    "name": "ipython",
    "version": 3
   },
   "file_extension": ".py",
   "mimetype": "text/x-python",
   "name": "python",
   "nbconvert_exporter": "python",
   "pygments_lexer": "ipython3",
   "version": "3.6.4"
  },
  "toc": {
   "colors": {
    "hover_highlight": "#DAA520",
    "navigate_num": "#000000",
    "navigate_text": "#333333",
    "running_highlight": "#FF0000",
    "selected_highlight": "#FFD700",
    "sidebar_border": "#EEEEEE",
    "wrapper_background": "#FFFFFF"
   },
   "moveMenuLeft": true,
   "nav_menu": {
    "height": "48px",
    "width": "252px"
   },
   "navigate_menu": true,
   "number_sections": false,
   "sideBar": true,
   "threshold": 4,
   "toc_cell": false,
   "toc_section_display": "block",
   "toc_window_display": false,
   "widenNotebook": false
  }
 },
 "nbformat": 4,
 "nbformat_minor": 2
}
